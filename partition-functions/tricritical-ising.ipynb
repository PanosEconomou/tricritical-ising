{
 "cells": [
  {
   "cell_type": "markdown",
   "id": "628bcd0f-0a2e-4304-8722-a7c584b752cf",
   "metadata": {},
   "source": [
    "# Partition Function Calculations\n",
    "\n",
    "Here we calculate the characters and partition functions of the Tricritical Ising Squared theory."
   ]
  },
  {
   "cell_type": "code",
   "execution_count": 1,
   "id": "f2995b5c-6bb5-49a6-a847-02d240b0b42b",
   "metadata": {},
   "outputs": [],
   "source": [
    "# Model Parameters ##################################################\n",
    "p   = 5  # p\n",
    "pp = 4  # p-prime\n",
    "c = 1 - 6 *(p-pp)^2/(p * pp)\n",
    "h(r,s) =((p * r - pp * s)^2 -(p-pp)^2)/(4 * p * pp)\n",
    "\n",
    "# Character Calculations ##############################################\n",
    "\n",
    "# Dedekind Eta inverse\n",
    "def eta_inv(q,N):\n",
    "    return q^(-1/24) * sum(number_of_partitions(k) * q^k for k in range(N+1))\n",
    "\n",
    "# K for Virasoro Characters\n",
    "def K(r,s,q,N):\n",
    "    return eta_inv(q,N) * sum( q^((2 * p * pp * n + p * r - pp * s)^2/(4 * p * pp)) for n in range(-N,N+1))\n",
    "\n",
    "# Final Virasoro character\n",
    "def chi(r,s,q,N):\n",
    "    return expand(K(r,s,q,N) - K(r,-s,q,N))\n",
    "\n",
    "# Helper Functions ##################################################\n",
    "def truncate(f,q,M):\n",
    "    terms = [term for term in f.operands() if term.degree(q) < M]\n",
    "    return sum(terms)\n",
    "\n",
    "@parallel\n",
    "def expand_parallel(F):\n",
    "    return F.expand()\n",
    "\n",
    "def show_rev(f,q):\n",
    "    latex_str = '+'.join([latex(term) for term in sorted(f.operands(), key=lambda t: t.degree(q))])\n",
    "    show(LatexExpr(latex_str))\n",
    "\n",
    "# Partition Function ##################################################\n",
    "\n",
    "# Minimal Model partition function\n",
    "@parallel('multiprocessing')\n",
    "def Z_term(a,b,c,d,N,p,pp):\n",
    "    var('q',domain='complex')\n",
    "    # assume(q>0)\n",
    "    \n",
    "    dedekind_eta_squared = expand(q^(-1/12) * sum((number_of_partitions(k) * q^k) for k in range(N+1))^2)\n",
    "    chi_ab = 0\n",
    "    chi_cd = 0\n",
    "    for n in range(-N,N+1):\n",
    "        chi_ab += q^((2 * p * pp * n + p * a - pp * b)^2/(4 * p * pp)) -  q^((2 * p * pp * n + p * a + pp * b)^2/(4 * p * pp)) \n",
    "        chi_cd += q^((2 * p * pp * n + p * c - pp * d)^2/(4 * p * pp)) -  q^((2 * p * pp * n + p * c + pp * d)^2/(4 * p * pp))\n",
    "\n",
    "    return expand(dedekind_eta_squared * chi_ab * conjugate(chi_cd ))\n",
    "\n",
    "def Z(x,M,N):\n",
    "    results = Z_term([(a,b,a,b,N,p,pp) for (a,b) in M])\n",
    "    return expand(sum([term.subs(q==x) for _, term in results]))\n",
    "    # return sum(expand(abs(chi(a,b,q,N))^2) for (a,b) in M)"
   ]
  },
  {
   "cell_type": "code",
   "execution_count": null,
   "id": "949c03a8-0dff-4771-8d65-c434709f4f6b",
   "metadata": {},
   "outputs": [],
   "source": []
  },
  {
   "cell_type": "code",
   "execution_count": 2,
   "id": "f5c7e7c9-f837-4f1b-9906-93c3bb21d631",
   "metadata": {},
   "outputs": [],
   "source": [
    "var('q',domain='real')\n",
    "assume(q>0)\n",
    "M = [[1,1],[2,1],[1,2],[1,3],[2,2],[3,1]]\n",
    "N = 3"
   ]
  },
  {
   "cell_type": "code",
   "execution_count": 3,
   "id": "90b4be14-9549-4a54-8a3c-0653b81e0e06",
   "metadata": {},
   "outputs": [],
   "source": [
    "# %%time\n",
    "# f  = truncate(1/2 * expand((Z(q,M,N))^2 + Z(q^2,M,N) + Z(q^(1/2),M,N) + Z(-q^(1/2),M,N)),q,1)\n",
    "# show_rev(f,q)"
   ]
  },
  {
   "cell_type": "code",
   "execution_count": 4,
   "id": "40ae45a1-648d-4f77-abd7-7df28a81a402",
   "metadata": {},
   "outputs": [
    {
     "data": {
      "text/html": [
       "<html>\\(\\displaystyle -\\frac{\\left(-1\\right)^{\\frac{113}{120}}}{q^{\\frac{7}{240}}}+\\left(-1\\right)^{\\frac{1}{60}} q^{\\frac{1}{120}}+\\left(-1\\right)^{\\frac{17}{120}} q^{\\frac{17}{240}}+\\left(-1\\right)^{\\frac{49}{60}} q^{\\frac{49}{120}}+-2 \\, \\left(-1\\right)^{\\frac{1}{60}} q^{\\frac{61}{120}}+-3 \\, \\left(-1\\right)^{\\frac{17}{120}} q^{\\frac{137}{240}}+-2 \\, \\left(-1\\right)^{\\frac{49}{60}} q^{\\frac{109}{120}}+-2 \\, \\left(-1\\right)^{\\frac{113}{120}} q^{\\frac{233}{240}}\\)</html>"
      ],
      "text/latex": [
       "$\\displaystyle -\\frac{\\left(-1\\right)^{\\frac{113}{120}}}{q^{\\frac{7}{240}}}+\\left(-1\\right)^{\\frac{1}{60}} q^{\\frac{1}{120}}+\\left(-1\\right)^{\\frac{17}{120}} q^{\\frac{17}{240}}+\\left(-1\\right)^{\\frac{49}{60}} q^{\\frac{49}{120}}+-2 \\, \\left(-1\\right)^{\\frac{1}{60}} q^{\\frac{61}{120}}+-3 \\, \\left(-1\\right)^{\\frac{17}{120}} q^{\\frac{137}{240}}+-2 \\, \\left(-1\\right)^{\\frac{49}{60}} q^{\\frac{109}{120}}+-2 \\, \\left(-1\\right)^{\\frac{113}{120}} q^{\\frac{233}{240}}$"
      ],
      "text/plain": [
       "-\\frac{\\left(-1\\right)^{\\frac{113}{120}}}{q^{\\frac{7}{240}}}+\\left(-1\\right)^{\\frac{1}{60}} q^{\\frac{1}{120}}+\\left(-1\\right)^{\\frac{17}{120}} q^{\\frac{17}{240}}+\\left(-1\\right)^{\\frac{49}{60}} q^{\\frac{49}{120}}+-2 \\, \\left(-1\\right)^{\\frac{1}{60}} q^{\\frac{61}{120}}+-3 \\, \\left(-1\\right)^{\\frac{17}{120}} q^{\\frac{137}{240}}+-2 \\, \\left(-1\\right)^{\\frac{49}{60}} q^{\\frac{109}{120}}+-2 \\, \\left(-1\\right)^{\\frac{113}{120}} q^{\\frac{233}{240}}"
      ]
     },
     "metadata": {},
     "output_type": "display_data"
    },
    {
     "name": "stdout",
     "output_type": "stream",
     "text": [
      "CPU times: user 207 ms, sys: 10.7 ms, total: 218 ms\n",
      "Wall time: 267 ms\n"
     ]
    }
   ],
   "source": [
    "%%time\n",
    "f  = truncate(expand(Z(-q^(1/2),M,N)),q,1)\n",
    "show_rev(f,q)"
   ]
  },
  {
   "cell_type": "code",
   "execution_count": 5,
   "id": "15073408-7f86-4228-8e0e-98a359470fd2",
   "metadata": {},
   "outputs": [
    {
     "data": {
      "text/html": [
       "<html>\\(\\displaystyle -\\frac{\\overline{\\left(-1\\right)^{\\frac{113}{120}}}}{q^{\\frac{7}{240}}}+q^{\\frac{1}{120}} \\overline{\\left(-1\\right)^{\\frac{1}{60}}}+q^{\\frac{17}{240}} \\overline{\\left(-1\\right)^{\\frac{17}{120}}}+q^{\\frac{49}{120}} \\overline{\\left(-1\\right)^{\\frac{49}{60}}}+-2 \\, q^{\\frac{61}{120}} \\overline{\\left(-1\\right)^{\\frac{1}{60}}}+-3 \\, q^{\\frac{137}{240}} \\overline{\\left(-1\\right)^{\\frac{17}{120}}}+-2 \\, q^{\\frac{109}{120}} \\overline{\\left(-1\\right)^{\\frac{49}{60}}}+-2 \\, q^{\\frac{233}{240}} \\overline{\\left(-1\\right)^{\\frac{113}{120}}}\\)</html>"
      ],
      "text/latex": [
       "$\\displaystyle -\\frac{\\overline{\\left(-1\\right)^{\\frac{113}{120}}}}{q^{\\frac{7}{240}}}+q^{\\frac{1}{120}} \\overline{\\left(-1\\right)^{\\frac{1}{60}}}+q^{\\frac{17}{240}} \\overline{\\left(-1\\right)^{\\frac{17}{120}}}+q^{\\frac{49}{120}} \\overline{\\left(-1\\right)^{\\frac{49}{60}}}+-2 \\, q^{\\frac{61}{120}} \\overline{\\left(-1\\right)^{\\frac{1}{60}}}+-3 \\, q^{\\frac{137}{240}} \\overline{\\left(-1\\right)^{\\frac{17}{120}}}+-2 \\, q^{\\frac{109}{120}} \\overline{\\left(-1\\right)^{\\frac{49}{60}}}+-2 \\, q^{\\frac{233}{240}} \\overline{\\left(-1\\right)^{\\frac{113}{120}}}$"
      ],
      "text/plain": [
       "-\\frac{\\overline{\\left(-1\\right)^{\\frac{113}{120}}}}{q^{\\frac{7}{240}}}+q^{\\frac{1}{120}} \\overline{\\left(-1\\right)^{\\frac{1}{60}}}+q^{\\frac{17}{240}} \\overline{\\left(-1\\right)^{\\frac{17}{120}}}+q^{\\frac{49}{120}} \\overline{\\left(-1\\right)^{\\frac{49}{60}}}+-2 \\, q^{\\frac{61}{120}} \\overline{\\left(-1\\right)^{\\frac{1}{60}}}+-3 \\, q^{\\frac{137}{240}} \\overline{\\left(-1\\right)^{\\frac{17}{120}}}+-2 \\, q^{\\frac{109}{120}} \\overline{\\left(-1\\right)^{\\frac{49}{60}}}+-2 \\, q^{\\frac{233}{240}} \\overline{\\left(-1\\right)^{\\frac{113}{120}}}"
      ]
     },
     "metadata": {},
     "output_type": "display_data"
    },
    {
     "name": "stdout",
     "output_type": "stream",
     "text": [
      "CPU times: user 249 ms, sys: 26.9 ms, total: 276 ms\n",
      "Wall time: 315 ms\n"
     ]
    }
   ],
   "source": [
    "%%time\n",
    "f  = truncate(expand(conjugate(Z(-q^(1/2),M,N))),q,1)\n",
    "show_rev(f,q)"
   ]
  },
  {
   "cell_type": "code",
   "execution_count": null,
   "id": "df1a1875-dbea-4f40-a73a-339170696d6b",
   "metadata": {},
   "outputs": [],
   "source": []
  }
 ],
 "metadata": {
  "kernelspec": {
   "display_name": "SageMath 10.6",
   "language": "sage",
   "name": "sagemath"
  },
  "language_info": {
   "codemirror_mode": {
    "name": "ipython",
    "version": 3
   },
   "file_extension": ".py",
   "mimetype": "text/x-python",
   "name": "python",
   "nbconvert_exporter": "python",
   "pygments_lexer": "ipython3",
   "version": "3.12.5"
  },
  "widgets": {
   "application/vnd.jupyter.widget-state+json": {
    "state": {},
    "version_major": 2,
    "version_minor": 0
   }
  }
 },
 "nbformat": 4,
 "nbformat_minor": 5
}
