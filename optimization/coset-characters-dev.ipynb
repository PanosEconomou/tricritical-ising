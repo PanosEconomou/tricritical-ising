{
 "cells": [
  {
   "cell_type": "markdown",
   "id": "86e15e34",
   "metadata": {},
   "source": [
    "# Coset Characters\n",
    "\n",
    "This is the development notebook for the library that calculates coset characters and partition functions for $\\hat{\\text{su}}(2)_k$ WZW models and their cosets"
   ]
  },
  {
   "cell_type": "markdown",
   "id": "0438e834",
   "metadata": {},
   "source": [
    "## Characters for $\\hat{\\text{su}}(2)_k$\n",
    "\n",
    "We know from amazing Di-Francesco that the coset characters of $\\hat{\\text{su}}(2)_k$ are given by\n",
    "$$\n",
    "\\chi_{\\lambda}^{(k)} = \\frac{\\Theta^{(k+2)}_{\\lambda + 1} - \\Theta^{(k+2)}_{-\\lambda - 1}}{\\Theta^{(2)}_{1} - \\Theta^{(2)}_{-1}}.\n",
    "$$\n",
    "Therefore in some way we need to calculate these $\\Theta$ functions. Luckily he has also done this for us, so in the $q$ expansion we have that\n",
    "$$\n",
    "\\chi_{\\lambda}^{(k)}(q) = q^{\\frac{(\\lambda+1)^2}{4(k+2)} - \\frac{1}{8}} \\frac{\\sum_{n\\in \\mathbb{Z}} [\\lambda + 1 + 2n(k+2)] q^{n[\\lambda + 1 + n(k+2)]}}{\\sum_{n \\in \\mathbb{Z}} (1+4n)q^{n(1+2n)}}\n",
    "$$\n",
    "The first sum is some fractional power that contains the central charge term, but the second is not! The second has integer coefficients! The interesting part is calculating this ratio of sums.\n",
    "\n",
    "We can quickly show that both of the polynomials are of the form\n",
    "$$\n",
    "a(q) = \\sum_{n\\in \\mathbb{N}} \\hat a(n) q^{\\hat f(n)}, \n",
    "$$ \n",
    "where $\\hat f(2n + 1) \\coloneqq f(n)$, $\\hat f(2n) \\coloneqq f(-n)$, and similarly for $\\hat a$ where $f(n) = n[\\lambda + 1 + n(k+2)]$ is the exponent function over the integers. Not only that, but $\\hat f$ is strictly increasing which has some nice properties.\n",
    "\n",
    "For our numerical evaluation, we effectively have something perfect. We can store everything in a sparse array, and do operations there."
   ]
  },
  {
   "cell_type": "code",
   "execution_count": null,
   "id": "93d48efd",
   "metadata": {},
   "outputs": [],
   "source": [
    "from sage.all import ZZ, QQ, PowerSeriesRing, latex,O     # Relevant sage objects\n",
    "from typing import Callable                 # For Typing things\n",
    "\n",
    "\n",
    "# Claculate the hats\n",
    "def get_character_int_coefficient_functions(lam:int, k:int):\n",
    "    funcs = [ \n",
    "        lambda n: n*(lam + 1 +n*(k+2)),     # Numerator power\n",
    "        lambda n: (lam + 1 + 2*n*(k+2)),    # Numerator coefficient\n",
    "        lambda n: n*(1+2*n),                # Denominator power\n",
    "        lambda n: 1+4*n                     # Denominator coefficient\n",
    "    ]\n",
    "\n",
    "    # Returns positive for even and negative for odd\n",
    "    def get_hat(F:Callable):\n",
    "        return lambda n: F([-(n-1)//2,n//2][n&1])\n",
    "    \n",
    "    return [get_hat(f) for f in funcs]\n",
    "\n",
    "# Obtain some cool things\n",
    "[f,a,g,b] = get_character_int_coefficient_functions(lam = 1, k = 1)\n",
    "\n",
    "\n",
    "# Let's build some polynomials now\n",
    "N:int = 10000                             # Number of terms\n",
    "R = PowerSeriesRing(QQ,'q', sparse=True, default_prec=N)  # Our polynomial ring over the integers\n",
    "q = R.gen()\n",
    "\n",
    "numerator_coefficients   = { f(n): a(n) for n in range(1,N) }\n",
    "denominator_coefficients = { g(n): b(n) for n in range(1,N) }\n",
    "\n",
    "numerator   = R(numerator_coefficients)\n",
    "denominator = R(denominator_coefficients)\n"
   ]
  },
  {
   "cell_type": "code",
   "execution_count": null,
   "id": "e42cf760",
   "metadata": {},
   "outputs": [
    {
     "data": {
      "text/plain": [
       "51*q^4 + 22*q^3 + 9*q^2 + 3*q + 1"
      ]
     },
     "execution_count": 2,
     "metadata": {},
     "output_type": "execute_result"
    }
   ],
   "source": [
    "inv = denominator.inverse_mod(q**1000)"
   ]
  },
  {
   "cell_type": "code",
   "execution_count": null,
   "id": "a957df6d",
   "metadata": {},
   "outputs": [
    {
     "data": {
      "text/latex": [
       "$2 -18 q^{8} +22 q^{12} -38 q^{36} +42 q^{44} -58 q^{84} +62 q^{96} -78 q^{152} +82 q^{168} -98 q^{240} +102 q^{260} -118 q^{348} +122 q^{372} -138 q^{476} +142 q^{504} -158 q^{624} +162 q^{656} -178 q^{792} +182 q^{828} -198 q^{980} +202 q^{1020} -218 q^{1188} +222 q^{1232} -238 q^{1416} +242 q^{1464} -258 q^{1664} +262 q^{1716} -278 q^{1932} +282 q^{1988} -298 q^{2220} +302 q^{2280} -318 q^{2528} +322 q^{2592} -338 q^{2856} +342 q^{2924} -358 q^{3204} +362 q^{3276} -378 q^{3572} +382 q^{3648} -398 q^{3960} +402 q^{4040} -418 q^{4368} +422 q^{4452} -438 q^{4796} +442 q^{4884} -458 q^{5244} +462 q^{5336} -478 q^{5712} +482 q^{5808} -498 q^{6200} +502 q^{6300} -518 q^{6708} +522 q^{6812} -538 q^{7236} +542 q^{7344} -558 q^{7784} +562 q^{7896} -578 q^{8352} +582 q^{8468} -598 q^{8940} +602 q^{9060} -618 q^{9548} +622 q^{9672}$"
      ],
      "text/plain": [
       "<IPython.core.display.Latex object>"
      ]
     },
     "metadata": {},
     "output_type": "display_data"
    }
   ],
   "source": [
    "# # Define a little printing function for a polynomial up to order n\n",
    "# from IPython.display import display, Latex\n",
    "\n",
    "# def show_n(f,n:float=10000, show:bool=True):\n",
    "#     terms = f.to_dict()\n",
    "#     monomials = []\n",
    "#     for power in reversed(terms):\n",
    "#         if power[0] > n: \n",
    "#             break\n",
    "#         monomials.append(r'%d q^{%d}'%(terms[power], power[0]))\n",
    "\n",
    "    \n",
    "#     string = \" +\".join(monomials)\\\n",
    "#         .replace(\"+-\",\"-\")\\\n",
    "#         .replace(r\" q^{0}\",\"\")\n",
    "    \n",
    "#     if not show:\n",
    "#         return string\n",
    "    \n",
    "#     display(Latex(\"$\"+string+\"$\"))\n",
    "\n",
    "# show_n(f)"
   ]
  },
  {
   "cell_type": "code",
   "execution_count": null,
   "id": "1be06b3a",
   "metadata": {},
   "outputs": [],
   "source": []
  }
 ],
 "metadata": {
  "kernelspec": {
   "display_name": "env",
   "language": "python",
   "name": "python3"
  },
  "language_info": {
   "codemirror_mode": {
    "name": "ipython",
    "version": 3
   },
   "file_extension": ".py",
   "mimetype": "text/x-python",
   "name": "python",
   "nbconvert_exporter": "python",
   "pygments_lexer": "ipython3",
   "version": "3.13.3"
  }
 },
 "nbformat": 4,
 "nbformat_minor": 5
}
