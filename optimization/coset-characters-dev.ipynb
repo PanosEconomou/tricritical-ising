{
 "cells": [
  {
   "cell_type": "markdown",
   "id": "86e15e34",
   "metadata": {},
   "source": [
    "# Coset Characters\n",
    "\n",
    "This is the development notebook for the library that calculates coset characters and partition functions for $\\hat{\\text{su}}(2)_k$ WZW models and their cosets"
   ]
  },
  {
   "cell_type": "markdown",
   "id": "0438e834",
   "metadata": {},
   "source": [
    "## Characters for $\\hat{\\text{su}}(2)_k$\n",
    "\n",
    "We know from amazing Di-Francesco that the coset characters of $\\hat{\\text{su}}(2)_k$ are given by\n",
    "$$\n",
    "\\chi_{\\lambda}^{(k)} = \\frac{\\Theta^{(k+2)}_{\\lambda + 1} - \\Theta^{(k+2)}_{-\\lambda - 1}}{\\Theta^{(2)}_{1} - \\Theta^{(2)}_{-1}}.\n",
    "$$\n",
    "Therefore in some way we need to calculate these $\\Theta$ functions. Luckily he has also done this for us, so in the $q$ expansion we have that\n",
    "$$\n",
    "\\chi_{\\lambda}^{(k)}(q) = q^{\\frac{(\\lambda+1)^2}{4(k+2)} - \\frac{1}{8}} \\frac{\\sum_{n\\in \\mathbb{Z}} [\\lambda + 1 + 2n(k+2)] q^{n[\\lambda + 1 + n(k+2)]}}{\\sum_{n \\in \\mathbb{Z}} (1+4n)q^{n(1+2n)}}\n",
    "$$\n",
    "The first sum is some fractional power that contains the central charge term, but the second is not! The second has integer coefficients! The interesting part is calculating this ratio of sums.\n",
    "\n",
    "We can quickly show that both of the polynomials are of the form\n",
    "$$\n",
    "a(q) = \\sum_{n\\in \\mathbb{N}} \\hat a(n) q^{\\hat f(n)}, \n",
    "$$ \n",
    "where $\\hat f(2n + 1) \\coloneqq f(n)$, $\\hat f(2n) \\coloneqq f(-n)$, and similarly for $\\hat a$ where $f(n) = n[\\lambda + 1 + n(k+2)]$ is the exponent function over the integers. Not only that, but $\\hat f$ is strictly increasing which has some nice properties.\n",
    "\n",
    "For our numerical evaluation, we effectively have something perfect. We can store everything in a sparse array, and do operations there."
   ]
  },
  {
   "cell_type": "code",
   "execution_count": 5,
   "id": "93d48efd",
   "metadata": {},
   "outputs": [],
   "source": [
    "from sage.all import ZZ, QQ, PowerSeriesRing, latex,O     # Relevant sage objects\n",
    "from typing import Callable                 # For Typing things\n",
    "\n",
    "\n",
    "# Claculate the hats\n",
    "def get_character_int_coefficient_functions(lam:int, k:int):\n",
    "    funcs = [ \n",
    "        lambda n: n*(lam + 1 +n*(k+2)),\n",
    "        lambda n: (lam + 1 + 2*n*(k+2)),\n",
    "    ]\n",
    "\n",
    "    # Returns positive for even and negative for odd\n",
    "    def get_hat(F:Callable):\n",
    "        return lambda n: F([-(n-1)//2,n//2][n&1])\n",
    "    \n",
    "    return [get_hat(f) for f in funcs]\n",
    "\n",
    "# Obtain some cool things\n",
    "[f,a] = get_character_int_coefficient_functions(lam = 1, k = 1)\n",
    "\n",
    "\n",
    "# Let's build some polynomials now\n",
    "N:int = 10000                                # Number of terms\n",
    "R = PowerSeriesRing(ZZ,'q', sparse=True)    # Our polynomial ring over the integers\n",
    "q = R.gen()\n",
    "\n",
    "numerator_coefficients = { f(n): a(n) for n in range(1,N) }\n",
    "\n",
    "numerator = R(numerator_coefficients)\n"
   ]
  },
  {
   "cell_type": "code",
   "execution_count": null,
   "id": "6c1e2b07",
   "metadata": {},
   "outputs": [],
   "source": []
  },
  {
   "cell_type": "code",
   "execution_count": 3,
   "id": "aa8989ea",
   "metadata": {},
   "outputs": [],
   "source": [
    "# Also check this out: https://doc.sagemath.org/html/en/thematic_tutorials/lie/integrable.html"
   ]
  },
  {
   "cell_type": "code",
   "execution_count": null,
   "id": "a957df6d",
   "metadata": {},
   "outputs": [],
   "source": [
    "# # Define a little printing function for a polynomial up to order n\n",
    "# from IPython.display import display, Latex\n",
    "\n",
    "# def show_n(f,n:float=10000, show:bool=True):\n",
    "#     terms = f.to_dict()\n",
    "#     monomials = []\n",
    "#     for power in reversed(terms):\n",
    "#         if power[0] > n: \n",
    "#             break\n",
    "#         monomials.append(r'%d q^{%d}'%(terms[power], power[0]))\n",
    "\n",
    "    \n",
    "#     string = \" +\".join(monomials)\\\n",
    "#         .replace(\"+-\",\"-\")\\\n",
    "#         .replace(r\" q^{0}\",\"\")\n",
    "    \n",
    "#     if not show:\n",
    "#         return string\n",
    "    \n",
    "#     display(Latex(\"$\"+string+\"$\"))\n",
    "\n",
    "# show_n(f)"
   ]
  },
  {
   "cell_type": "code",
   "execution_count": null,
   "id": "1be06b3a",
   "metadata": {},
   "outputs": [],
   "source": []
  }
 ],
 "metadata": {
  "kernelspec": {
   "display_name": "env",
   "language": "python",
   "name": "python3"
  },
  "language_info": {
   "codemirror_mode": {
    "name": "ipython",
    "version": 3
   },
   "file_extension": ".py",
   "mimetype": "text/x-python",
   "name": "python",
   "nbconvert_exporter": "python",
   "pygments_lexer": "ipython3",
   "version": "3.13.3"
  }
 },
 "nbformat": 4,
 "nbformat_minor": 5
}
