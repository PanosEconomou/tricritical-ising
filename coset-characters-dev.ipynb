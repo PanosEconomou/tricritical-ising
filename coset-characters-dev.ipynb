{
 "cells": [
  {
   "cell_type": "markdown",
   "id": "86e15e34",
   "metadata": {},
   "source": [
    "# Coset Characters\n",
    "\n",
    "This is the development notebook for the library that calculates coset characters and partition functions for $\\hat{\\text{su}}(2)_k$ WZW models and their cosets"
   ]
  },
  {
   "cell_type": "markdown",
   "id": "0438e834",
   "metadata": {},
   "source": [
    "## Characters for $\\hat{\\text{su}}(2)_k$\n",
    "\n",
    "We know from amazing Di-Francesco that the coset characters of $\\hat{\\text{su}}(2)_k$ are given by\n",
    "$$\n",
    "\\chi_{\\lambda}^{(k)} = \\frac{\\Theta^{(k+2)}_{\\lambda + 1} - \\Theta^{(k+2)}_{-\\lambda - 1}}{\\Theta^{(2)}_{1} - \\Theta^{(2)}_{-1}}.\n",
    "$$\n",
    "Therefore in some way we need to calculate these $\\Theta$ functions. Luckily he has also done this for us, so in the $q$ expansion we have that\n",
    "$$\n",
    "\\chi_{\\lambda}^{(k)}(q) = q^{\\frac{(\\lambda+1)^2}{4(k+2)} - \\frac{1}{8}} \\frac{\\sum_{n\\in \\mathbb{Z}} [\\lambda + 1 + 2n(k+2)] q^{n[\\lambda + 1 + n(k+2)]}}{\\sum_{n \\in \\mathbb{Z}} (1+4n)q^{n(1+2n)}}\n",
    "$$\n",
    "The first sum is some fractional power that contains the central charge term, but the second is not! The second has integer coefficients! The interesting part is calculating this ratio of sums.\n",
    "\n",
    "We can quickly show that both of the polynomials are of the form\n",
    "$$\n",
    "a(q) = \\sum_{n\\in \\mathbb{Z}_{\\geq 0}} \\hat a(n) q^{\\hat f(n)}, \n",
    "$$ \n",
    "where $\\hat f(2n) \\coloneqq f(n)$, $\\hat f(2n+1) \\coloneqq f(-n)$, and similarly for $\\hat a$ where $f(n) = n[\\lambda + 1 + n(k+2)]$ is the exponent function over the integers. Not only that, but $\\hat f$ is strictly increasing which has some nice properties.\n",
    "\n",
    "For our numerical evaluation, we effectively have something perfect. We can store everything in a sparse array, and do operations there."
   ]
  },
  {
   "cell_type": "code",
   "execution_count": 1,
   "id": "8442f407",
   "metadata": {},
   "outputs": [
    {
     "name": "stdout",
     "output_type": "stream",
     "text": [
      "5*q^7 - 8*q^5 + 3 \n",
      " {(7,): 5, (5,): -8, (0,): 3}\n"
     ]
    }
   ],
   "source": [
    "from flint import fmpz_mpoly_ctx     \n",
    "# (btw#1: fmpz stands for flint multivariate polynomial in Z)\n",
    "# (btw#2: Flint stores multivariate polynomials sparsely but not univariate)\n",
    "\n",
    "# Define the context of the polynomials \n",
    "ctx = fmpz_mpoly_ctx.get(('q',), 'lex') # Lexicographically ordered polynomials in q\n",
    "\n",
    "# Use the context to obtain a random polynomial and print it\n",
    "f = ctx.from_dict({(7,): 5, (0,): 3, (5,): -8})\n",
    "\n",
    "print(f, '\\n', f.to_dict())\n"
   ]
  },
  {
   "cell_type": "code",
   "execution_count": 2,
   "id": "a957df6d",
   "metadata": {},
   "outputs": [
    {
     "data": {
      "text/latex": [
       "$3 -8 q^5 +5 q^7$"
      ],
      "text/plain": [
       "<IPython.core.display.Latex object>"
      ]
     },
     "metadata": {},
     "output_type": "display_data"
    }
   ],
   "source": [
    "# Define a little printing function for a polynomial up to order n\n",
    "from IPython.display import display, Latex\n",
    "\n",
    "def show(f,n:float=100, show:bool=True):\n",
    "    terms = f.to_dict()\n",
    "    monomials = []\n",
    "    for power in reversed(terms):\n",
    "        if power[0] > n: \n",
    "            break\n",
    "        monomials.append(f'{terms[power]} q^{power[0]}')\n",
    "\n",
    "    \n",
    "    string = \" +\".join(monomials)\\\n",
    "        .replace(\"+-\",\"-\")\\\n",
    "        .replace(\" q^0\",\"\")\n",
    "    \n",
    "    if not show:\n",
    "        return string\n",
    "    \n",
    "    display(Latex(\"$\"+string+\"$\"))\n",
    "\n",
    "show(f)\n",
    "    "
   ]
  }
 ],
 "metadata": {
  "kernelspec": {
   "display_name": "env",
   "language": "python",
   "name": "python3"
  },
  "language_info": {
   "codemirror_mode": {
    "name": "ipython",
    "version": 3
   },
   "file_extension": ".py",
   "mimetype": "text/x-python",
   "name": "python",
   "nbconvert_exporter": "python",
   "pygments_lexer": "ipython3",
   "version": "3.13.7"
  }
 },
 "nbformat": 4,
 "nbformat_minor": 5
}
